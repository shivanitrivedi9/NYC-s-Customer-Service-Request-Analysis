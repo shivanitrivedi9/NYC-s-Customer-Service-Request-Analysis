{
 "cells": [
  {
   "cell_type": "code",
   "execution_count": 1,
   "id": "cbaaa217",
   "metadata": {},
   "outputs": [],
   "source": [
    "import numpy as np\n",
    "import pandas as pd\n",
    "import matplotlib.pyplot as plt\n",
    "import seaborn as sns"
   ]
  },
  {
   "cell_type": "code",
   "execution_count": 3,
   "id": "cc703538",
   "metadata": {},
   "outputs": [
    {
     "name": "stderr",
     "output_type": "stream",
     "text": [
      "C:\\Users\\Shivani\\AppData\\Local\\Temp\\ipykernel_3684\\2338776251.py:1: DtypeWarning: Columns (48,49) have mixed types. Specify dtype option on import or set low_memory=False.\n",
      "  data=pd.read_csv(r\"C:\\Users\\Shivani\\OneDrive\\Desktop\\311nyc.csv\")\n"
     ]
    }
   ],
   "source": [
    "data=pd.read_csv(r\"C:\\Users\\Shivani\\OneDrive\\Desktop\\311nyc.csv\")"
   ]
  },
  {
   "cell_type": "code",
   "execution_count": 4,
   "id": "1fdbeeb0",
   "metadata": {},
   "outputs": [
    {
     "data": {
      "text/html": [
       "<div>\n",
       "<style scoped>\n",
       "    .dataframe tbody tr th:only-of-type {\n",
       "        vertical-align: middle;\n",
       "    }\n",
       "\n",
       "    .dataframe tbody tr th {\n",
       "        vertical-align: top;\n",
       "    }\n",
       "\n",
       "    .dataframe thead th {\n",
       "        text-align: right;\n",
       "    }\n",
       "</style>\n",
       "<table border=\"1\" class=\"dataframe\">\n",
       "  <thead>\n",
       "    <tr style=\"text-align: right;\">\n",
       "      <th></th>\n",
       "      <th>Unique Key</th>\n",
       "      <th>Created Date</th>\n",
       "      <th>Closed Date</th>\n",
       "      <th>Agency</th>\n",
       "      <th>Agency Name</th>\n",
       "      <th>Complaint Type</th>\n",
       "      <th>Descriptor</th>\n",
       "      <th>Location Type</th>\n",
       "      <th>Incident Zip</th>\n",
       "      <th>Incident Address</th>\n",
       "      <th>...</th>\n",
       "      <th>Bridge Highway Name</th>\n",
       "      <th>Bridge Highway Direction</th>\n",
       "      <th>Road Ramp</th>\n",
       "      <th>Bridge Highway Segment</th>\n",
       "      <th>Garage Lot Name</th>\n",
       "      <th>Ferry Direction</th>\n",
       "      <th>Ferry Terminal Name</th>\n",
       "      <th>Latitude</th>\n",
       "      <th>Longitude</th>\n",
       "      <th>Location</th>\n",
       "    </tr>\n",
       "  </thead>\n",
       "  <tbody>\n",
       "    <tr>\n",
       "      <th>0</th>\n",
       "      <td>32310363</td>\n",
       "      <td>12/31/2015 11:59:45 PM</td>\n",
       "      <td>01-01-2016 00:55</td>\n",
       "      <td>NYPD</td>\n",
       "      <td>New York City Police Department</td>\n",
       "      <td>Noise - Street/Sidewalk</td>\n",
       "      <td>Loud Music/Party</td>\n",
       "      <td>Street/Sidewalk</td>\n",
       "      <td>10034.0</td>\n",
       "      <td>71 VERMILYEA AVENUE</td>\n",
       "      <td>...</td>\n",
       "      <td>NaN</td>\n",
       "      <td>NaN</td>\n",
       "      <td>NaN</td>\n",
       "      <td>NaN</td>\n",
       "      <td>NaN</td>\n",
       "      <td>NaN</td>\n",
       "      <td>NaN</td>\n",
       "      <td>40.865682</td>\n",
       "      <td>-73.923501</td>\n",
       "      <td>(40.86568153633767, -73.92350095571744)</td>\n",
       "    </tr>\n",
       "    <tr>\n",
       "      <th>1</th>\n",
       "      <td>32309934</td>\n",
       "      <td>12/31/2015 11:59:44 PM</td>\n",
       "      <td>01-01-2016 01:26</td>\n",
       "      <td>NYPD</td>\n",
       "      <td>New York City Police Department</td>\n",
       "      <td>Blocked Driveway</td>\n",
       "      <td>No Access</td>\n",
       "      <td>Street/Sidewalk</td>\n",
       "      <td>11105.0</td>\n",
       "      <td>27-07 23 AVENUE</td>\n",
       "      <td>...</td>\n",
       "      <td>NaN</td>\n",
       "      <td>NaN</td>\n",
       "      <td>NaN</td>\n",
       "      <td>NaN</td>\n",
       "      <td>NaN</td>\n",
       "      <td>NaN</td>\n",
       "      <td>NaN</td>\n",
       "      <td>40.775945</td>\n",
       "      <td>-73.915094</td>\n",
       "      <td>(40.775945312321085, -73.91509393898605)</td>\n",
       "    </tr>\n",
       "    <tr>\n",
       "      <th>2</th>\n",
       "      <td>32309159</td>\n",
       "      <td>12/31/2015 11:59:29 PM</td>\n",
       "      <td>01-01-2016 04:51</td>\n",
       "      <td>NYPD</td>\n",
       "      <td>New York City Police Department</td>\n",
       "      <td>Blocked Driveway</td>\n",
       "      <td>No Access</td>\n",
       "      <td>Street/Sidewalk</td>\n",
       "      <td>10458.0</td>\n",
       "      <td>2897 VALENTINE AVENUE</td>\n",
       "      <td>...</td>\n",
       "      <td>NaN</td>\n",
       "      <td>NaN</td>\n",
       "      <td>NaN</td>\n",
       "      <td>NaN</td>\n",
       "      <td>NaN</td>\n",
       "      <td>NaN</td>\n",
       "      <td>NaN</td>\n",
       "      <td>40.870325</td>\n",
       "      <td>-73.888525</td>\n",
       "      <td>(40.870324522111424, -73.88852464418646)</td>\n",
       "    </tr>\n",
       "    <tr>\n",
       "      <th>3</th>\n",
       "      <td>32305098</td>\n",
       "      <td>12/31/2015 11:57:46 PM</td>\n",
       "      <td>01-01-2016 07:43</td>\n",
       "      <td>NYPD</td>\n",
       "      <td>New York City Police Department</td>\n",
       "      <td>Illegal Parking</td>\n",
       "      <td>Commercial Overnight Parking</td>\n",
       "      <td>Street/Sidewalk</td>\n",
       "      <td>10461.0</td>\n",
       "      <td>2940 BAISLEY AVENUE</td>\n",
       "      <td>...</td>\n",
       "      <td>NaN</td>\n",
       "      <td>NaN</td>\n",
       "      <td>NaN</td>\n",
       "      <td>NaN</td>\n",
       "      <td>NaN</td>\n",
       "      <td>NaN</td>\n",
       "      <td>NaN</td>\n",
       "      <td>40.835994</td>\n",
       "      <td>-73.828379</td>\n",
       "      <td>(40.83599404683083, -73.82837939584206)</td>\n",
       "    </tr>\n",
       "    <tr>\n",
       "      <th>4</th>\n",
       "      <td>32306529</td>\n",
       "      <td>12/31/2015 11:56:58 PM</td>\n",
       "      <td>01-01-2016 03:24</td>\n",
       "      <td>NYPD</td>\n",
       "      <td>New York City Police Department</td>\n",
       "      <td>Illegal Parking</td>\n",
       "      <td>Blocked Sidewalk</td>\n",
       "      <td>Street/Sidewalk</td>\n",
       "      <td>11373.0</td>\n",
       "      <td>87-14 57 ROAD</td>\n",
       "      <td>...</td>\n",
       "      <td>NaN</td>\n",
       "      <td>NaN</td>\n",
       "      <td>NaN</td>\n",
       "      <td>NaN</td>\n",
       "      <td>NaN</td>\n",
       "      <td>NaN</td>\n",
       "      <td>NaN</td>\n",
       "      <td>40.733060</td>\n",
       "      <td>-73.874170</td>\n",
       "      <td>(40.733059618956815, -73.87416975810375)</td>\n",
       "    </tr>\n",
       "  </tbody>\n",
       "</table>\n",
       "<p>5 rows × 53 columns</p>\n",
       "</div>"
      ],
      "text/plain": [
       "   Unique Key            Created Date       Closed Date Agency  \\\n",
       "0    32310363  12/31/2015 11:59:45 PM  01-01-2016 00:55   NYPD   \n",
       "1    32309934  12/31/2015 11:59:44 PM  01-01-2016 01:26   NYPD   \n",
       "2    32309159  12/31/2015 11:59:29 PM  01-01-2016 04:51   NYPD   \n",
       "3    32305098  12/31/2015 11:57:46 PM  01-01-2016 07:43   NYPD   \n",
       "4    32306529  12/31/2015 11:56:58 PM  01-01-2016 03:24   NYPD   \n",
       "\n",
       "                       Agency Name           Complaint Type  \\\n",
       "0  New York City Police Department  Noise - Street/Sidewalk   \n",
       "1  New York City Police Department         Blocked Driveway   \n",
       "2  New York City Police Department         Blocked Driveway   \n",
       "3  New York City Police Department          Illegal Parking   \n",
       "4  New York City Police Department          Illegal Parking   \n",
       "\n",
       "                     Descriptor    Location Type  Incident Zip  \\\n",
       "0              Loud Music/Party  Street/Sidewalk       10034.0   \n",
       "1                     No Access  Street/Sidewalk       11105.0   \n",
       "2                     No Access  Street/Sidewalk       10458.0   \n",
       "3  Commercial Overnight Parking  Street/Sidewalk       10461.0   \n",
       "4              Blocked Sidewalk  Street/Sidewalk       11373.0   \n",
       "\n",
       "        Incident Address  ... Bridge Highway Name Bridge Highway Direction  \\\n",
       "0    71 VERMILYEA AVENUE  ...                 NaN                      NaN   \n",
       "1        27-07 23 AVENUE  ...                 NaN                      NaN   \n",
       "2  2897 VALENTINE AVENUE  ...                 NaN                      NaN   \n",
       "3    2940 BAISLEY AVENUE  ...                 NaN                      NaN   \n",
       "4          87-14 57 ROAD  ...                 NaN                      NaN   \n",
       "\n",
       "  Road Ramp Bridge Highway Segment Garage Lot Name Ferry Direction  \\\n",
       "0       NaN                    NaN             NaN             NaN   \n",
       "1       NaN                    NaN             NaN             NaN   \n",
       "2       NaN                    NaN             NaN             NaN   \n",
       "3       NaN                    NaN             NaN             NaN   \n",
       "4       NaN                    NaN             NaN             NaN   \n",
       "\n",
       "  Ferry Terminal Name   Latitude  Longitude  \\\n",
       "0                 NaN  40.865682 -73.923501   \n",
       "1                 NaN  40.775945 -73.915094   \n",
       "2                 NaN  40.870325 -73.888525   \n",
       "3                 NaN  40.835994 -73.828379   \n",
       "4                 NaN  40.733060 -73.874170   \n",
       "\n",
       "                                   Location  \n",
       "0   (40.86568153633767, -73.92350095571744)  \n",
       "1  (40.775945312321085, -73.91509393898605)  \n",
       "2  (40.870324522111424, -73.88852464418646)  \n",
       "3   (40.83599404683083, -73.82837939584206)  \n",
       "4  (40.733059618956815, -73.87416975810375)  \n",
       "\n",
       "[5 rows x 53 columns]"
      ]
     },
     "execution_count": 4,
     "metadata": {},
     "output_type": "execute_result"
    }
   ],
   "source": [
    "data.head()"
   ]
  },
  {
   "cell_type": "code",
   "execution_count": 5,
   "id": "294549d1",
   "metadata": {},
   "outputs": [
    {
     "data": {
      "text/plain": [
       "Index(['Unique Key', 'Created Date', 'Closed Date', 'Agency', 'Agency Name',\n",
       "       'Complaint Type', 'Descriptor', 'Location Type', 'Incident Zip',\n",
       "       'Incident Address', 'Street Name', 'Cross Street 1', 'Cross Street 2',\n",
       "       'Intersection Street 1', 'Intersection Street 2', 'Address Type',\n",
       "       'City', 'Landmark', 'Facility Type', 'Status', 'Due Date',\n",
       "       'Resolution Description', 'Resolution Action Updated Date',\n",
       "       'Community Board', 'Borough', 'X Coordinate (State Plane)',\n",
       "       'Y Coordinate (State Plane)', 'Park Facility Name', 'Park Borough',\n",
       "       'School Name', 'School Number', 'School Region', 'School Code',\n",
       "       'School Phone Number', 'School Address', 'School City', 'School State',\n",
       "       'School Zip', 'School Not Found', 'School or Citywide Complaint',\n",
       "       'Vehicle Type', 'Taxi Company Borough', 'Taxi Pick Up Location',\n",
       "       'Bridge Highway Name', 'Bridge Highway Direction', 'Road Ramp',\n",
       "       'Bridge Highway Segment', 'Garage Lot Name', 'Ferry Direction',\n",
       "       'Ferry Terminal Name', 'Latitude', 'Longitude', 'Location'],\n",
       "      dtype='object')"
      ]
     },
     "execution_count": 5,
     "metadata": {},
     "output_type": "execute_result"
    }
   ],
   "source": [
    "data.columns\n"
   ]
  },
  {
   "cell_type": "code",
   "execution_count": 6,
   "id": "f689f29e",
   "metadata": {},
   "outputs": [
    {
     "data": {
      "text/plain": [
       "Unique Key                             0\n",
       "Created Date                           0\n",
       "Closed Date                         2164\n",
       "Agency                                 0\n",
       "Agency Name                            0\n",
       "Complaint Type                         0\n",
       "Descriptor                          5914\n",
       "Location Type                        131\n",
       "Incident Zip                        2615\n",
       "Incident Address                   44410\n",
       "Street Name                        44410\n",
       "Cross Street 1                     49279\n",
       "Cross Street 2                     49779\n",
       "Intersection Street 1             256840\n",
       "Intersection Street 2             257336\n",
       "Address Type                        2815\n",
       "City                                2614\n",
       "Landmark                          300349\n",
       "Facility Type                       2171\n",
       "Status                                 0\n",
       "Due Date                               3\n",
       "Resolution Description                 0\n",
       "Resolution Action Updated Date      2187\n",
       "Community Board                        0\n",
       "Borough                                0\n",
       "X Coordinate (State Plane)          3540\n",
       "Y Coordinate (State Plane)          3540\n",
       "Park Facility Name                     0\n",
       "Park Borough                           0\n",
       "School Name                            0\n",
       "School Number                          0\n",
       "School Region                          1\n",
       "School Code                            1\n",
       "School Phone Number                    0\n",
       "School Address                         0\n",
       "School City                            0\n",
       "School State                           0\n",
       "School Zip                             1\n",
       "School Not Found                       0\n",
       "School or Citywide Complaint      300698\n",
       "Vehicle Type                      300698\n",
       "Taxi Company Borough              300698\n",
       "Taxi Pick Up Location             300698\n",
       "Bridge Highway Name               300455\n",
       "Bridge Highway Direction          300455\n",
       "Road Ramp                         300485\n",
       "Bridge Highway Segment            300485\n",
       "Garage Lot Name                   300698\n",
       "Ferry Direction                   300697\n",
       "Ferry Terminal Name               300696\n",
       "Latitude                            3540\n",
       "Longitude                           3540\n",
       "Location                            3540\n",
       "dtype: int64"
      ]
     },
     "execution_count": 6,
     "metadata": {},
     "output_type": "execute_result"
    }
   ],
   "source": [
    "data.isna().sum()\n"
   ]
  },
  {
   "cell_type": "code",
   "execution_count": 7,
   "id": "72b8cfdb",
   "metadata": {},
   "outputs": [
    {
     "data": {
      "text/html": [
       "<div>\n",
       "<style scoped>\n",
       "    .dataframe tbody tr th:only-of-type {\n",
       "        vertical-align: middle;\n",
       "    }\n",
       "\n",
       "    .dataframe tbody tr th {\n",
       "        vertical-align: top;\n",
       "    }\n",
       "\n",
       "    .dataframe thead th {\n",
       "        text-align: right;\n",
       "    }\n",
       "</style>\n",
       "<table border=\"1\" class=\"dataframe\">\n",
       "  <thead>\n",
       "    <tr style=\"text-align: right;\">\n",
       "      <th></th>\n",
       "      <th>Unique Key</th>\n",
       "      <th>Created Date</th>\n",
       "      <th>Closed Date</th>\n",
       "      <th>Agency</th>\n",
       "      <th>Agency Name</th>\n",
       "      <th>Complaint Type</th>\n",
       "      <th>Descriptor</th>\n",
       "      <th>Location Type</th>\n",
       "      <th>Incident Zip</th>\n",
       "      <th>Incident Address</th>\n",
       "      <th>...</th>\n",
       "      <th>Bridge Highway Name</th>\n",
       "      <th>Bridge Highway Direction</th>\n",
       "      <th>Road Ramp</th>\n",
       "      <th>Bridge Highway Segment</th>\n",
       "      <th>Garage Lot Name</th>\n",
       "      <th>Ferry Direction</th>\n",
       "      <th>Ferry Terminal Name</th>\n",
       "      <th>Latitude</th>\n",
       "      <th>Longitude</th>\n",
       "      <th>Location</th>\n",
       "    </tr>\n",
       "  </thead>\n",
       "  <tbody>\n",
       "    <tr>\n",
       "      <th>283132</th>\n",
       "      <td>30427220</td>\n",
       "      <td>04/18/2015 09:44:55 AM</td>\n",
       "      <td>05-02-2015 10:35</td>\n",
       "      <td>NYPD</td>\n",
       "      <td>New York City Police Department</td>\n",
       "      <td>Animal in a Park</td>\n",
       "      <td>Animal Waste</td>\n",
       "      <td>Park</td>\n",
       "      <td>NaN</td>\n",
       "      <td>NaN</td>\n",
       "      <td>...</td>\n",
       "      <td>NaN</td>\n",
       "      <td>NaN</td>\n",
       "      <td>NaN</td>\n",
       "      <td>NaN</td>\n",
       "      <td>NaN</td>\n",
       "      <td>NaN</td>\n",
       "      <td>NaN</td>\n",
       "      <td>NaN</td>\n",
       "      <td>NaN</td>\n",
       "      <td>NaN</td>\n",
       "    </tr>\n",
       "  </tbody>\n",
       "</table>\n",
       "<p>1 rows × 53 columns</p>\n",
       "</div>"
      ],
      "text/plain": [
       "        Unique Key            Created Date       Closed Date Agency  \\\n",
       "283132    30427220  04/18/2015 09:44:55 AM  05-02-2015 10:35   NYPD   \n",
       "\n",
       "                            Agency Name    Complaint Type    Descriptor  \\\n",
       "283132  New York City Police Department  Animal in a Park  Animal Waste   \n",
       "\n",
       "       Location Type  Incident Zip Incident Address  ... Bridge Highway Name  \\\n",
       "283132          Park           NaN              NaN  ...                 NaN   \n",
       "\n",
       "       Bridge Highway Direction Road Ramp Bridge Highway Segment  \\\n",
       "283132                      NaN       NaN                    NaN   \n",
       "\n",
       "       Garage Lot Name Ferry Direction Ferry Terminal Name Latitude Longitude  \\\n",
       "283132             NaN             NaN                 NaN      NaN       NaN   \n",
       "\n",
       "       Location  \n",
       "283132      NaN  \n",
       "\n",
       "[1 rows x 53 columns]"
      ]
     },
     "execution_count": 7,
     "metadata": {},
     "output_type": "execute_result"
    }
   ],
   "source": [
    "data[data['Complaint Type']=='Animal in a Park']\n"
   ]
  },
  {
   "cell_type": "code",
   "execution_count": 8,
   "id": "8e5be92a",
   "metadata": {},
   "outputs": [],
   "source": [
    "data.drop(labels=283132, axis=0, inplace=True)\n"
   ]
  },
  {
   "cell_type": "code",
   "execution_count": 9,
   "id": "9ea4f5a9",
   "metadata": {},
   "outputs": [],
   "source": [
    "data['Created Date']= pd.to_datetime(data['Created Date'])\n"
   ]
  },
  {
   "cell_type": "code",
   "execution_count": 10,
   "id": "9bb51f17",
   "metadata": {},
   "outputs": [],
   "source": [
    "data['Closed Date']= pd.to_datetime(data['Closed Date'])\n"
   ]
  },
  {
   "cell_type": "code",
   "execution_count": 11,
   "id": "84921ad6",
   "metadata": {},
   "outputs": [],
   "source": [
    "data['Request_Closing_Time']= data['Closed Date'].values-data['Created Date'].values\n"
   ]
  },
  {
   "cell_type": "code",
   "execution_count": 12,
   "id": "4706281b",
   "metadata": {},
   "outputs": [],
   "source": [
    "data['Request_Closing_Time_mins'] = data['Request_Closing_Time']/np.timedelta64(1,'m')"
   ]
  },
  {
   "cell_type": "code",
   "execution_count": 13,
   "id": "e98ed42e",
   "metadata": {},
   "outputs": [
    {
     "name": "stdout",
     "output_type": "stream",
     "text": [
      "<class 'pandas.core.frame.DataFrame'>\n",
      "Int64Index: 300697 entries, 0 to 300697\n",
      "Data columns (total 55 columns):\n",
      " #   Column                          Non-Null Count   Dtype          \n",
      "---  ------                          --------------   -----          \n",
      " 0   Unique Key                      300697 non-null  int64          \n",
      " 1   Created Date                    300697 non-null  datetime64[ns] \n",
      " 2   Closed Date                     298533 non-null  datetime64[ns] \n",
      " 3   Agency                          300697 non-null  object         \n",
      " 4   Agency Name                     300697 non-null  object         \n",
      " 5   Complaint Type                  300697 non-null  object         \n",
      " 6   Descriptor                      294783 non-null  object         \n",
      " 7   Location Type                   300566 non-null  object         \n",
      " 8   Incident Zip                    298083 non-null  float64        \n",
      " 9   Incident Address                256288 non-null  object         \n",
      " 10  Street Name                     256288 non-null  object         \n",
      " 11  Cross Street 1                  251419 non-null  object         \n",
      " 12  Cross Street 2                  250919 non-null  object         \n",
      " 13  Intersection Street 1           43858 non-null   object         \n",
      " 14  Intersection Street 2           43362 non-null   object         \n",
      " 15  Address Type                    297883 non-null  object         \n",
      " 16  City                            298083 non-null  object         \n",
      " 17  Landmark                        349 non-null     object         \n",
      " 18  Facility Type                   298527 non-null  object         \n",
      " 19  Status                          300697 non-null  object         \n",
      " 20  Due Date                        300694 non-null  object         \n",
      " 21  Resolution Description          300697 non-null  object         \n",
      " 22  Resolution Action Updated Date  298510 non-null  object         \n",
      " 23  Community Board                 300697 non-null  object         \n",
      " 24  Borough                         300697 non-null  object         \n",
      " 25  X Coordinate (State Plane)      297158 non-null  float64        \n",
      " 26  Y Coordinate (State Plane)      297158 non-null  float64        \n",
      " 27  Park Facility Name              300697 non-null  object         \n",
      " 28  Park Borough                    300697 non-null  object         \n",
      " 29  School Name                     300697 non-null  object         \n",
      " 30  School Number                   300697 non-null  object         \n",
      " 31  School Region                   300697 non-null  object         \n",
      " 32  School Code                     300697 non-null  object         \n",
      " 33  School Phone Number             300697 non-null  object         \n",
      " 34  School Address                  300697 non-null  object         \n",
      " 35  School City                     300697 non-null  object         \n",
      " 36  School State                    300697 non-null  object         \n",
      " 37  School Zip                      300697 non-null  object         \n",
      " 38  School Not Found                300697 non-null  object         \n",
      " 39  School or Citywide Complaint    0 non-null       float64        \n",
      " 40  Vehicle Type                    0 non-null       float64        \n",
      " 41  Taxi Company Borough            0 non-null       float64        \n",
      " 42  Taxi Pick Up Location           0 non-null       float64        \n",
      " 43  Bridge Highway Name             243 non-null     object         \n",
      " 44  Bridge Highway Direction        243 non-null     object         \n",
      " 45  Road Ramp                       213 non-null     object         \n",
      " 46  Bridge Highway Segment          213 non-null     object         \n",
      " 47  Garage Lot Name                 0 non-null       float64        \n",
      " 48  Ferry Direction                 1 non-null       object         \n",
      " 49  Ferry Terminal Name             2 non-null       object         \n",
      " 50  Latitude                        297158 non-null  float64        \n",
      " 51  Longitude                       297158 non-null  float64        \n",
      " 52  Location                        297158 non-null  object         \n",
      " 53  Request_Closing_Time            298533 non-null  timedelta64[ns]\n",
      " 54  Request_Closing_Time_mins       298533 non-null  float64        \n",
      "dtypes: datetime64[ns](2), float64(11), int64(1), object(40), timedelta64[ns](1)\n",
      "memory usage: 128.5+ MB\n"
     ]
    }
   ],
   "source": [
    "data.head()\n",
    "data.info()"
   ]
  },
  {
   "cell_type": "code",
   "execution_count": 15,
   "id": "15d1899d",
   "metadata": {},
   "outputs": [],
   "source": [
    "#Provide major insights/patterns that you can offer in a visual format (graphs or tables); \n",
    "#at least 4 major conclusions that you can come up with after generic data mining."
   ]
  },
  {
   "cell_type": "code",
   "execution_count": 16,
   "id": "7930bb3e",
   "metadata": {},
   "outputs": [
    {
     "data": {
      "text/plain": [
       "array(['Noise - Street/Sidewalk', 'Blocked Driveway', 'Illegal Parking',\n",
       "       'Derelict Vehicle', 'Noise - Commercial',\n",
       "       'Noise - House of Worship', 'Posting Advertisement',\n",
       "       'Noise - Vehicle', 'Animal Abuse', 'Vending', 'Traffic',\n",
       "       'Drinking', 'Bike/Roller/Skate Chronic', 'Panhandling',\n",
       "       'Noise - Park', 'Homeless Encampment', 'Urinating in Public',\n",
       "       'Graffiti', 'Disorderly Youth', 'Illegal Fireworks',\n",
       "       'Ferry Complaint', 'Agency Issues', 'Squeegee'], dtype=object)"
      ]
     },
     "execution_count": 16,
     "metadata": {},
     "output_type": "execute_result"
    }
   ],
   "source": [
    "data['Complaint Type'].unique()\n"
   ]
  },
  {
   "cell_type": "code",
   "execution_count": 17,
   "id": "ae8f968f",
   "metadata": {},
   "outputs": [],
   "source": [
    "# Conclusion 1: City with maximum number of complaints was found to be Brooklyn with different types of complaints\n",
    "df1=data.groupby(['City','Complaint Type']).size().unstack().fillna(0)"
   ]
  },
  {
   "cell_type": "code",
   "execution_count": 18,
   "id": "00e14e57",
   "metadata": {},
   "outputs": [
    {
     "data": {
      "text/plain": [
       "Text(0.5, 1.0, 'Number of complaints vs. City')"
      ]
     },
     "execution_count": 18,
     "metadata": {},
     "output_type": "execute_result"
    },
    {
     "data": {
      "image/png": "[encoded data removed]",
      "text/plain": [
       "<Figure size 1080x720 with 1 Axes>"
      ]
     },
     "metadata": {
      "needs_background": "light"
     },
     "output_type": "display_data"
    }
   ],
   "source": [
    "df1.plot.bar(figsize=(15,10), stacked=True)\n",
    "plt.ylabel('Number of Complaints')\n",
    "plt.title('Number of complaints vs. City')"
   ]
  },
  {
   "cell_type": "code",
   "execution_count": 19,
   "id": "792920f3",
   "metadata": {},
   "outputs": [],
   "source": [
    "df2=data.groupby(['City','Status']).size().unstack().fillna(0)\n"
   ]
  },
  {
   "cell_type": "code",
   "execution_count": 20,
   "id": "58e72149",
   "metadata": {},
   "outputs": [
    {
     "data": {
      "text/html": [
       "<div>\n",
       "<style scoped>\n",
       "    .dataframe tbody tr th:only-of-type {\n",
       "        vertical-align: middle;\n",
       "    }\n",
       "\n",
       "    .dataframe tbody tr th {\n",
       "        vertical-align: top;\n",
       "    }\n",
       "\n",
       "    .dataframe thead th {\n",
       "        text-align: right;\n",
       "    }\n",
       "</style>\n",
       "<table border=\"1\" class=\"dataframe\">\n",
       "  <thead>\n",
       "    <tr style=\"text-align: right;\">\n",
       "      <th>Status</th>\n",
       "      <th>Assigned</th>\n",
       "      <th>Closed</th>\n",
       "      <th>Draft</th>\n",
       "      <th>Open</th>\n",
       "    </tr>\n",
       "    <tr>\n",
       "      <th>City</th>\n",
       "      <th></th>\n",
       "      <th></th>\n",
       "      <th></th>\n",
       "      <th></th>\n",
       "    </tr>\n",
       "  </thead>\n",
       "  <tbody>\n",
       "    <tr>\n",
       "      <th>NEW YORK</th>\n",
       "      <td>15.0</td>\n",
       "      <td>65961.0</td>\n",
       "      <td>0.0</td>\n",
       "      <td>18.0</td>\n",
       "    </tr>\n",
       "    <tr>\n",
       "      <th>BROOKLYN</th>\n",
       "      <td>19.0</td>\n",
       "      <td>98275.0</td>\n",
       "      <td>1.0</td>\n",
       "      <td>12.0</td>\n",
       "    </tr>\n",
       "    <tr>\n",
       "      <th>JAMAICA</th>\n",
       "      <td>1.0</td>\n",
       "      <td>7286.0</td>\n",
       "      <td>0.0</td>\n",
       "      <td>9.0</td>\n",
       "    </tr>\n",
       "    <tr>\n",
       "      <th>STATEN ISLAND</th>\n",
       "      <td>2.0</td>\n",
       "      <td>12335.0</td>\n",
       "      <td>0.0</td>\n",
       "      <td>6.0</td>\n",
       "    </tr>\n",
       "    <tr>\n",
       "      <th>BRONX</th>\n",
       "      <td>6.0</td>\n",
       "      <td>40690.0</td>\n",
       "      <td>1.0</td>\n",
       "      <td>5.0</td>\n",
       "    </tr>\n",
       "  </tbody>\n",
       "</table>\n",
       "</div>"
      ],
      "text/plain": [
       "Status         Assigned   Closed  Draft  Open\n",
       "City                                         \n",
       "NEW YORK           15.0  65961.0    0.0  18.0\n",
       "BROOKLYN           19.0  98275.0    1.0  12.0\n",
       "JAMAICA             1.0   7286.0    0.0   9.0\n",
       "STATEN ISLAND       2.0  12335.0    0.0   6.0\n",
       "BRONX               6.0  40690.0    1.0   5.0"
      ]
     },
     "execution_count": 20,
     "metadata": {},
     "output_type": "execute_result"
    }
   ],
   "source": [
    "# Conclusion 2: Based upon the status of complaints it can be inferred that maximum number of complaints were resolved.\n",
    "# From the total unresolved cases the top 5 cities have been found which sum upto 76.92 % of total Open cases\n",
    "df2.sort_values(by='Open', ascending=False).head() # Thus maximum pending cases are in New york"
   ]
  },
  {
   "cell_type": "code",
   "execution_count": 21,
   "id": "113afb00",
   "metadata": {},
   "outputs": [],
   "source": [
    "df2['Unresolved_percentage']= df2['Open']/df2['Open'].sum()*100\n"
   ]
  },
  {
   "cell_type": "code",
   "execution_count": 22,
   "id": "3567a00b",
   "metadata": {},
   "outputs": [
    {
     "data": {
      "text/plain": [
       "Status\n",
       "Assigned                     43.000000\n",
       "Closed                   224547.000000\n",
       "Draft                         2.000000\n",
       "Open                         50.000000\n",
       "Unresolved_percentage        76.923077\n",
       "dtype: float64"
      ]
     },
     "execution_count": 22,
     "metadata": {},
     "output_type": "execute_result"
    }
   ],
   "source": [
    "df2.sort_values(by='Unresolved_percentage', ascending=False).head().sum()\n"
   ]
  },
  {
   "cell_type": "code",
   "execution_count": 23,
   "id": "eca83376",
   "metadata": {},
   "outputs": [
    {
     "data": {
      "text/plain": [
       "[Text(0, 0, 'Illegal Parking'),\n",
       " Text(1, 0, 'Blocked Driveway'),\n",
       " Text(2, 0, 'Noise - Commercial'),\n",
       " Text(3, 0, 'Noise - Street/Sidewalk'),\n",
       " Text(4, 0, 'Noise - Vehicle'),\n",
       " Text(5, 0, 'Traffic'),\n",
       " Text(6, 0, 'Derelict Vehicle'),\n",
       " Text(7, 0, 'Animal Abuse'),\n",
       " Text(8, 0, 'Drinking'),\n",
       " Text(9, 0, 'Vending'),\n",
       " Text(10, 0, 'Noise - Park'),\n",
       " Text(11, 0, 'Homeless Encampment'),\n",
       " Text(12, 0, 'Posting Advertisement'),\n",
       " Text(13, 0, 'Panhandling'),\n",
       " Text(14, 0, 'Graffiti'),\n",
       " Text(15, 0, 'Noise - House of Worship'),\n",
       " Text(16, 0, 'Bike/Roller/Skate Chronic'),\n",
       " Text(17, 0, 'Urinating in Public'),\n",
       " Text(18, 0, 'Disorderly Youth'),\n",
       " Text(19, 0, 'Illegal Fireworks')]"
      ]
     },
     "execution_count": 23,
     "metadata": {},
     "output_type": "execute_result"
    },
    {
     "data": {
      "image/png": "[encoded data removed]",
      "text/plain": [
       "<Figure size 432x288 with 1 Axes>"
      ]
     },
     "metadata": {
      "needs_background": "light"
     },
     "output_type": "display_data"
    }
   ],
   "source": [
    "# Conclusion 3: Since maximum number of complaints were filed in Brooklyn, complaint data was analysed for this city.\n",
    "# Blocked Driveway was found to be the most frequent complaint lodged to NYPD in the city of Brooklyn.\n",
    "data.loc[(data['City']=='BROOKLYN'),:]['Complaint Type'].value_counts()\n",
    "plot_3= sns.countplot(x=data.loc[data.City=='BROOKLYN']['Complaint Type'], palette='YlOrRd_r')\n",
    "plot_3.set_xticklabels(plot_3.get_xticklabels(), rotation=90)"
   ]
  },
  {
   "cell_type": "code",
   "execution_count": 24,
   "id": "b776f5f1",
   "metadata": {},
   "outputs": [
    {
     "data": {
      "text/plain": [
       "Street/Sidewalk               249299\n",
       "Store/Commercial               20381\n",
       "Club/Bar/Restaurant            17360\n",
       "Residential Building/House      6960\n",
       "Park/Playground                 4773\n",
       "House of Worship                 929\n",
       "Residential Building             227\n",
       "Highway                          215\n",
       "Parking Lot                      117\n",
       "House and Store                   93\n",
       "Vacant Lot                        77\n",
       "Commercial                        62\n",
       "Roadway Tunnel                    35\n",
       "Subway Station                    34\n",
       "Bridge                             2\n",
       "Terminal                           1\n",
       "Ferry                              1\n",
       "Name: Location Type, dtype: int64"
      ]
     },
     "execution_count": 24,
     "metadata": {},
     "output_type": "execute_result"
    }
   ],
   "source": [
    "data['Location Type'].value_counts()\n"
   ]
  },
  {
   "cell_type": "code",
   "execution_count": 25,
   "id": "9cf036dd",
   "metadata": {},
   "outputs": [
    {
     "name": "stderr",
     "output_type": "stream",
     "text": [
      "C:\\Users\\Shivani\\anaconda3\\lib\\site-packages\\seaborn\\_decorators.py:36: FutureWarning: Pass the following variable as a keyword arg: x. From version 0.12, the only valid positional argument will be `data`, and passing other arguments without an explicit keyword will result in an error or misinterpretation.\n",
      "  warnings.warn(\n"
     ]
    },
    {
     "data": {
      "text/plain": [
       "[Text(0, 0, 'Street/Sidewalk'),\n",
       " Text(1, 0, 'Club/Bar/Restaurant'),\n",
       " Text(2, 0, 'Store/Commercial'),\n",
       " Text(3, 0, 'House of Worship'),\n",
       " Text(4, 0, 'Residential Building/House'),\n",
       " Text(5, 0, 'Residential Building'),\n",
       " Text(6, 0, 'Park/Playground'),\n",
       " Text(7, 0, 'Vacant Lot'),\n",
       " Text(8, 0, 'House and Store'),\n",
       " Text(9, 0, 'Highway'),\n",
       " Text(10, 0, 'Commercial'),\n",
       " Text(11, 0, 'Roadway Tunnel'),\n",
       " Text(12, 0, 'Subway Station'),\n",
       " Text(13, 0, 'Parking Lot'),\n",
       " Text(14, 0, 'Bridge'),\n",
       " Text(15, 0, 'Terminal'),\n",
       " Text(16, 0, 'Ferry')]"
      ]
     },
     "execution_count": 25,
     "metadata": {},
     "output_type": "execute_result"
    },
    {
     "data": {
      "image/png": "[encoded data removed]",
      "text/plain": [
       "<Figure size 720x360 with 1 Axes>"
      ]
     },
     "metadata": {
      "needs_background": "light"
     },
     "output_type": "display_data"
    }
   ],
   "source": [
    "# Conclusion 5: The maximum complaints were regarding Street and Sidwalk which indicate that \n",
    "# there is a scope for improvement in strict measures on the road thus Traffic police can look into this matter\n",
    "data['Location Type'].fillna(value='Street/Sidewalk',inplace=True)\n",
    "plt.figure(figsize=(10,5))\n",
    "plot_4 =sns.countplot(data['Location Type'])\n",
    "plot_4.set_xticklabels(plot_4.get_xticklabels(), rotation=90)"
   ]
  },
  {
   "cell_type": "code",
   "execution_count": 26,
   "id": "c617401b",
   "metadata": {},
   "outputs": [
    {
     "data": {
      "text/plain": [
       "Index(['Blocked Driveway', 'Illegal Parking', 'Noise - Street/Sidewalk',\n",
       "       'Noise - Commercial', 'Derelict Vehicle'],\n",
       "      dtype='object')"
      ]
     },
     "execution_count": 26,
     "metadata": {},
     "output_type": "execute_result"
    }
   ],
   "source": [
    "# Conclusion 6: Major Complaint types and their count\n",
    "df4= data['Complaint Type'].value_counts().head(10)\n",
    "df4.nlargest().index"
   ]
  },
  {
   "cell_type": "code",
   "execution_count": 27,
   "id": "c66bd019",
   "metadata": {},
   "outputs": [
    {
     "data": {
      "text/plain": [
       "Blocked Driveway           77044\n",
       "Illegal Parking            75361\n",
       "Noise - Street/Sidewalk    48612\n",
       "Noise - Commercial         35577\n",
       "Derelict Vehicle           17718\n",
       "Noise - Vehicle            17083\n",
       "Animal Abuse                7778\n",
       "Traffic                     4498\n",
       "Homeless Encampment         4416\n",
       "Noise - Park                4042\n",
       "Name: Complaint Type, dtype: int64"
      ]
     },
     "execution_count": 27,
     "metadata": {},
     "output_type": "execute_result"
    }
   ],
   "source": [
    "df4\n"
   ]
  },
  {
   "cell_type": "code",
   "execution_count": 28,
   "id": "fa20828e",
   "metadata": {},
   "outputs": [
    {
     "data": {
      "text/plain": [
       "[Text(0, 0, 'Blocked Driveway'),\n",
       " Text(1, 0, 'Illegal Parking'),\n",
       " Text(2, 0, 'Noise - Street/Sidewalk'),\n",
       " Text(3, 0, 'Noise - Commercial'),\n",
       " Text(4, 0, 'Derelict Vehicle')]"
      ]
     },
     "execution_count": 28,
     "metadata": {},
     "output_type": "execute_result"
    },
    {
     "data": {
      "image/png": "[encoded data removed]",
      "text/plain": [
       "<Figure size 360x360 with 1 Axes>"
      ]
     },
     "metadata": {
      "needs_background": "light"
     },
     "output_type": "display_data"
    }
   ],
   "source": [
    "plt.figure(figsize=(5,5))\n",
    "plot_5= sns.barplot(x=df4.nlargest().index, y= df4.nlargest().values)\n",
    "plot_5.set_xticklabels(plot_5.get_xticklabels(), rotation=90)"
   ]
  }
 ],
 "metadata": {
  "kernelspec": {
   "display_name": "Python 3 (ipykernel)",
   "language": "python",
   "name": "python3"
  },
  "language_info": {
   "codemirror_mode": {
    "name": "ipython",
    "version": 3
   },
   "file_extension": ".py",
   "mimetype": "text/x-python",
   "name": "python",
   "nbconvert_exporter": "python",
   "pygments_lexer": "ipython3",
   "version": "3.9.12"
  }
 },
 "nbformat": 4,
 "nbformat_minor": 5
}
